{
 "cells": [
  {
   "cell_type": "code",
   "execution_count": 52,
   "id": "0ba7576f-ae82-45f3-be13-6929c932d4e1",
   "metadata": {},
   "outputs": [],
   "source": [
    "import geopandas as gpd\n",
    "import pandas as pd\n",
    "import numpy as np\n",
    "import matplotlib as plt\n",
    "from shapely.geometry import Point, LineString, Polygon"
   ]
  },
  {
   "cell_type": "code",
   "execution_count": 53,
   "id": "890c0a87-5d3d-499a-b6c0-f64fbd2bca89",
   "metadata": {},
   "outputs": [],
   "source": [
    "# GeoDataFrame"
   ]
  },
  {
   "cell_type": "code",
   "execution_count": 54,
   "id": "e6616eff-edb2-4fca-990c-a1358b5cbf72",
   "metadata": {},
   "outputs": [
    {
     "data": {
      "text/html": [
       "<div>\n",
       "<style scoped>\n",
       "    .dataframe tbody tr th:only-of-type {\n",
       "        vertical-align: middle;\n",
       "    }\n",
       "\n",
       "    .dataframe tbody tr th {\n",
       "        vertical-align: top;\n",
       "    }\n",
       "\n",
       "    .dataframe thead th {\n",
       "        text-align: right;\n",
       "    }\n",
       "</style>\n",
       "<table border=\"1\" class=\"dataframe\">\n",
       "  <thead>\n",
       "    <tr style=\"text-align: right;\">\n",
       "      <th></th>\n",
       "      <th>col1</th>\n",
       "      <th>geometry</th>\n",
       "    </tr>\n",
       "  </thead>\n",
       "  <tbody>\n",
       "    <tr>\n",
       "      <th>0</th>\n",
       "      <td>A</td>\n",
       "      <td>POINT (0 1)</td>\n",
       "    </tr>\n",
       "    <tr>\n",
       "      <th>1</th>\n",
       "      <td>B</td>\n",
       "      <td>POINT (1 0)</td>\n",
       "    </tr>\n",
       "  </tbody>\n",
       "</table>\n",
       "</div>"
      ],
      "text/plain": [
       "  col1     geometry\n",
       "0    A  POINT (0 1)\n",
       "1    B  POINT (1 0)"
      ]
     },
     "execution_count": 54,
     "metadata": {},
     "output_type": "execute_result"
    }
   ],
   "source": [
    "d = {'col1':['A','B'],'geometry':[Point(0, 1),Point(1, 0)]}\n",
    "gdf = gpd.GeoDataFrame(d)\n",
    "gdf"
   ]
  },
  {
   "cell_type": "code",
   "execution_count": 55,
   "id": "d445fd88-fcb3-47cb-8f33-68ab6a5f3cb2",
   "metadata": {},
   "outputs": [
    {
     "data": {
      "text/plain": [
       "geopandas.geodataframe.GeoDataFrame"
      ]
     },
     "execution_count": 55,
     "metadata": {},
     "output_type": "execute_result"
    }
   ],
   "source": [
    "type(gdf)"
   ]
  },
  {
   "cell_type": "code",
   "execution_count": 56,
   "id": "1fe4d84f-1ee9-4052-a8d1-22a4f74eba51",
   "metadata": {},
   "outputs": [
    {
     "data": {
      "text/plain": [
       "0    0.0\n",
       "1    1.0\n",
       "dtype: float64"
      ]
     },
     "execution_count": 56,
     "metadata": {},
     "output_type": "execute_result"
    }
   ],
   "source": [
    "# 位置の座標\n",
    "gdf.geometry.x"
   ]
  },
  {
   "cell_type": "code",
   "execution_count": 57,
   "id": "3bd0ad49-5ce8-450e-a625-74e6206b9b32",
   "metadata": {},
   "outputs": [
    {
     "data": {
      "text/plain": [
       "0    1.0\n",
       "1    0.0\n",
       "dtype: float64"
      ]
     },
     "execution_count": 57,
     "metadata": {},
     "output_type": "execute_result"
    }
   ],
   "source": [
    "gdf.geometry.y"
   ]
  },
  {
   "cell_type": "code",
   "execution_count": 58,
   "id": "3dbbd57f-a442-4c9f-aed7-225e62ac1e4a",
   "metadata": {},
   "outputs": [],
   "source": [
    "# LineString"
   ]
  },
  {
   "cell_type": "code",
   "execution_count": 59,
   "id": "926f36ee-bf34-4be3-8352-6cb5fe64e94b",
   "metadata": {},
   "outputs": [
    {
     "data": {
      "text/html": [
       "<div>\n",
       "<style scoped>\n",
       "    .dataframe tbody tr th:only-of-type {\n",
       "        vertical-align: middle;\n",
       "    }\n",
       "\n",
       "    .dataframe tbody tr th {\n",
       "        vertical-align: top;\n",
       "    }\n",
       "\n",
       "    .dataframe thead th {\n",
       "        text-align: right;\n",
       "    }\n",
       "</style>\n",
       "<table border=\"1\" class=\"dataframe\">\n",
       "  <thead>\n",
       "    <tr style=\"text-align: right;\">\n",
       "      <th></th>\n",
       "      <th>col1</th>\n",
       "      <th>geometry</th>\n",
       "    </tr>\n",
       "  </thead>\n",
       "  <tbody>\n",
       "    <tr>\n",
       "      <th>0</th>\n",
       "      <td>A</td>\n",
       "      <td>LINESTRING (0 1, 1 0)</td>\n",
       "    </tr>\n",
       "    <tr>\n",
       "      <th>1</th>\n",
       "      <td>B</td>\n",
       "      <td>LINESTRING (2 0, 2 2)</td>\n",
       "    </tr>\n",
       "  </tbody>\n",
       "</table>\n",
       "</div>"
      ],
      "text/plain": [
       "  col1               geometry\n",
       "0    A  LINESTRING (0 1, 1 0)\n",
       "1    B  LINESTRING (2 0, 2 2)"
      ]
     },
     "execution_count": 59,
     "metadata": {},
     "output_type": "execute_result"
    }
   ],
   "source": [
    "d = {'col1':['A','B'],'geometry':[LineString([(0, 1),(1,0)]),LineString([(2, 0),(2,2)])]}\n",
    "gdf = gpd.GeoDataFrame(d)\n",
    "gdf"
   ]
  },
  {
   "cell_type": "code",
   "execution_count": 60,
   "id": "3fa34ced-c76c-4e5b-99ef-b3ba9c8ca703",
   "metadata": {},
   "outputs": [
    {
     "data": {
      "text/plain": [
       "<Axes: >"
      ]
     },
     "execution_count": 60,
     "metadata": {},
     "output_type": "execute_result"
    },
    {
     "data": {
      "image/png": "[encoded data removed]",
      "text/plain": [
       "<Figure size 640x480 with 1 Axes>"
      ]
     },
     "metadata": {},
     "output_type": "display_data"
    }
   ],
   "source": [
    "gdf.plot()"
   ]
  },
  {
   "cell_type": "code",
   "execution_count": 61,
   "id": "f7626afd-82bb-409c-9da5-deb1368f563a",
   "metadata": {},
   "outputs": [
    {
     "data": {
      "text/plain": [
       "0    LineString\n",
       "1    LineString\n",
       "dtype: object"
      ]
     },
     "execution_count": 61,
     "metadata": {},
     "output_type": "execute_result"
    }
   ],
   "source": [
    "# geom_type\n",
    "gdf.geom_type"
   ]
  },
  {
   "cell_type": "code",
   "execution_count": 62,
   "id": "7f889602-c80b-465e-b05b-dfea8b4a2cd4",
   "metadata": {},
   "outputs": [],
   "source": [
    "# 外部データ"
   ]
  },
  {
   "cell_type": "code",
   "execution_count": 67,
   "id": "f0db72b6-ea43-4bd3-a29b-fcde96c30b08",
   "metadata": {},
   "outputs": [
    {
     "data": {
      "text/plain": [
       "[]"
      ]
     },
     "execution_count": 67,
     "metadata": {},
     "output_type": "execute_result"
    }
   ],
   "source": [
    "gpd.datasets.available"
   ]
  },
  {
   "cell_type": "code",
   "execution_count": 68,
   "id": "76491bd3-a0f2-4792-b24c-fdc66cc0a39e",
   "metadata": {},
   "outputs": [
    {
     "ename": "AttributeError",
     "evalue": "The geopandas.dataset has been deprecated and was removed in GeoPandas 1.0. You can get the original 'naturalearth_lowres' data from https://www.naturalearthdata.com/downloads/110m-cultural-vectors/.",
     "output_type": "error",
     "traceback": [
      "\u001b[0;31m---------------------------------------------------------------------------\u001b[0m",
      "\u001b[0;31mAttributeError\u001b[0m                            Traceback (most recent call last)",
      "Cell \u001b[0;32mIn[68], line 1\u001b[0m\n\u001b[0;32m----> 1\u001b[0m data_path \u001b[38;5;241m=\u001b[39m gpd\u001b[38;5;241m.\u001b[39mdatasets\u001b[38;5;241m.\u001b[39mget_path(\u001b[38;5;124m'\u001b[39m\u001b[38;5;124mnaturalearth_lowres\u001b[39m\u001b[38;5;124m'\u001b[39m)\n\u001b[1;32m      2\u001b[0m data_path\n",
      "File \u001b[0;32m/opt/conda/lib/python3.12/site-packages/geopandas/datasets/__init__.py:18\u001b[0m, in \u001b[0;36mget_path\u001b[0;34m(dataset)\u001b[0m\n\u001b[1;32m     12\u001b[0m error_msg \u001b[38;5;241m=\u001b[39m (\n\u001b[1;32m     13\u001b[0m     \u001b[38;5;124m\"\u001b[39m\u001b[38;5;124mThe geopandas.dataset has been deprecated and was removed in GeoPandas \u001b[39m\u001b[38;5;124m\"\u001b[39m\n\u001b[1;32m     14\u001b[0m     \u001b[38;5;124mf\u001b[39m\u001b[38;5;124m\"\u001b[39m\u001b[38;5;124m1.0. You can get the original \u001b[39m\u001b[38;5;124m'\u001b[39m\u001b[38;5;132;01m{\u001b[39;00mdataset\u001b[38;5;132;01m}\u001b[39;00m\u001b[38;5;124m'\u001b[39m\u001b[38;5;124m data from \u001b[39m\u001b[38;5;124m\"\u001b[39m\n\u001b[1;32m     15\u001b[0m     \u001b[38;5;124mf\u001b[39m\u001b[38;5;124m\"\u001b[39m\u001b[38;5;132;01m{\u001b[39;00mne_message\u001b[38;5;250m \u001b[39m\u001b[38;5;28;01mif\u001b[39;00m\u001b[38;5;250m \u001b[39m\u001b[38;5;124m'\u001b[39m\u001b[38;5;124mnatural\u001b[39m\u001b[38;5;124m'\u001b[39m\u001b[38;5;250m \u001b[39m\u001b[38;5;129;01min\u001b[39;00m\u001b[38;5;250m \u001b[39mdataset\u001b[38;5;250m \u001b[39m\u001b[38;5;28;01melse\u001b[39;00m\u001b[38;5;250m \u001b[39mnybb_message\u001b[38;5;132;01m}\u001b[39;00m\u001b[38;5;124m\"\u001b[39m\n\u001b[1;32m     16\u001b[0m )\n\u001b[1;32m     17\u001b[0m \u001b[38;5;28;01mif\u001b[39;00m dataset \u001b[38;5;129;01min\u001b[39;00m _prev_available:\n\u001b[0;32m---> 18\u001b[0m     \u001b[38;5;28;01mraise\u001b[39;00m \u001b[38;5;167;01mAttributeError\u001b[39;00m(error_msg)\n\u001b[1;32m     19\u001b[0m \u001b[38;5;28;01melse\u001b[39;00m:\n\u001b[1;32m     20\u001b[0m     error_msg \u001b[38;5;241m=\u001b[39m (\n\u001b[1;32m     21\u001b[0m         \u001b[38;5;124m\"\u001b[39m\u001b[38;5;124mThe geopandas.dataset has been deprecated and \u001b[39m\u001b[38;5;124m\"\u001b[39m\n\u001b[1;32m     22\u001b[0m         \u001b[38;5;124m\"\u001b[39m\u001b[38;5;124mwas removed in GeoPandas 1.0. New sample datasets are now available \u001b[39m\u001b[38;5;124m\"\u001b[39m\n\u001b[1;32m     23\u001b[0m         \u001b[38;5;124m\"\u001b[39m\u001b[38;5;124min the geodatasets package (https://geodatasets.readthedocs.io/en/latest/)\u001b[39m\u001b[38;5;124m\"\u001b[39m\n\u001b[1;32m     24\u001b[0m     )\n",
      "\u001b[0;31mAttributeError\u001b[0m: The geopandas.dataset has been deprecated and was removed in GeoPandas 1.0. You can get the original 'naturalearth_lowres' data from https://www.naturalearthdata.com/downloads/110m-cultural-vectors/."
     ]
    }
   ],
   "source": [
    "data_path = gpd.datasets.get_path('naturalearth_lowres')\n",
    "data_path"
   ]
  },
  {
   "cell_type": "code",
   "execution_count": 47,
   "id": "ba096ff9-7c5f-45b3-af89-e84210629b2d",
   "metadata": {},
   "outputs": [
    {
     "ename": "NameError",
     "evalue": "name 'data_path' is not defined",
     "output_type": "error",
     "traceback": [
      "\u001b[0;31m---------------------------------------------------------------------------\u001b[0m",
      "\u001b[0;31mNameError\u001b[0m                                 Traceback (most recent call last)",
      "Cell \u001b[0;32mIn[47], line 1\u001b[0m\n\u001b[0;32m----> 1\u001b[0m gdf1 \u001b[38;5;241m=\u001b[39m gpd\u001b[38;5;241m.\u001b[39mread_file(data_path)\n\u001b[1;32m      2\u001b[0m gdf1\n",
      "\u001b[0;31mNameError\u001b[0m: name 'data_path' is not defined"
     ]
    }
   ],
   "source": [
    "gdf1 = gpd.read_file(data_path)\n",
    "gdf1"
   ]
  },
  {
   "cell_type": "code",
   "execution_count": 48,
   "id": "be94e03f-7674-4026-af88-2995fa7b8d20",
   "metadata": {},
   "outputs": [
    {
     "ename": "NameError",
     "evalue": "name 'gdf1' is not defined",
     "output_type": "error",
     "traceback": [
      "\u001b[0;31m---------------------------------------------------------------------------\u001b[0m",
      "\u001b[0;31mNameError\u001b[0m                                 Traceback (most recent call last)",
      "Cell \u001b[0;32mIn[48], line 1\u001b[0m\n\u001b[0;32m----> 1\u001b[0m gdf1\u001b[38;5;241m.\u001b[39mplot()\n",
      "\u001b[0;31mNameError\u001b[0m: name 'gdf1' is not defined"
     ]
    }
   ],
   "source": [
    "gdf1.plot()"
   ]
  },
  {
   "cell_type": "code",
   "execution_count": 69,
   "id": "54397bc5-b723-4cf7-a519-67766046adcf",
   "metadata": {},
   "outputs": [
    {
     "ename": "AttributeError",
     "evalue": "The geopandas.dataset has been deprecated and was removed in GeoPandas 1.0. New sample datasets are now available in the geodatasets package (https://geodatasets.readthedocs.io/en/latest/)",
     "output_type": "error",
     "traceback": [
      "\u001b[0;31m---------------------------------------------------------------------------\u001b[0m",
      "\u001b[0;31mAttributeError\u001b[0m                            Traceback (most recent call last)",
      "Cell \u001b[0;32mIn[69], line 1\u001b[0m\n\u001b[0;32m----> 1\u001b[0m data_path \u001b[38;5;241m=\u001b[39m gpd\u001b[38;5;241m.\u001b[39mdatasets\u001b[38;5;241m.\u001b[39mget_path(\u001b[38;5;124m'\u001b[39m\u001b[38;5;124mnaturalearth_cites\u001b[39m\u001b[38;5;124m'\u001b[39m)\n\u001b[1;32m      2\u001b[0m gdf2 \u001b[38;5;241m=\u001b[39m gpd\u001b[38;5;241m.\u001b[39mread_file(data_path)\n\u001b[1;32m      3\u001b[0m gdf2\n",
      "File \u001b[0;32m/opt/conda/lib/python3.12/site-packages/geopandas/datasets/__init__.py:25\u001b[0m, in \u001b[0;36mget_path\u001b[0;34m(dataset)\u001b[0m\n\u001b[1;32m     19\u001b[0m \u001b[38;5;28;01melse\u001b[39;00m:\n\u001b[1;32m     20\u001b[0m     error_msg \u001b[38;5;241m=\u001b[39m (\n\u001b[1;32m     21\u001b[0m         \u001b[38;5;124m\"\u001b[39m\u001b[38;5;124mThe geopandas.dataset has been deprecated and \u001b[39m\u001b[38;5;124m\"\u001b[39m\n\u001b[1;32m     22\u001b[0m         \u001b[38;5;124m\"\u001b[39m\u001b[38;5;124mwas removed in GeoPandas 1.0. New sample datasets are now available \u001b[39m\u001b[38;5;124m\"\u001b[39m\n\u001b[1;32m     23\u001b[0m         \u001b[38;5;124m\"\u001b[39m\u001b[38;5;124min the geodatasets package (https://geodatasets.readthedocs.io/en/latest/)\u001b[39m\u001b[38;5;124m\"\u001b[39m\n\u001b[1;32m     24\u001b[0m     )\n\u001b[0;32m---> 25\u001b[0m     \u001b[38;5;28;01mraise\u001b[39;00m \u001b[38;5;167;01mAttributeError\u001b[39;00m(error_msg)\n",
      "\u001b[0;31mAttributeError\u001b[0m: The geopandas.dataset has been deprecated and was removed in GeoPandas 1.0. New sample datasets are now available in the geodatasets package (https://geodatasets.readthedocs.io/en/latest/)"
     ]
    }
   ],
   "source": [
    "data_path = gpd.datasets.get_path('naturalearth_cites')\n",
    "gdf2 = gpd.read_file(data_path)\n",
    "gdf2"
   ]
  },
  {
   "cell_type": "code",
   "execution_count": 71,
   "id": "d95bfd47-d621-4fb3-83b0-090ecf19cff4",
   "metadata": {},
   "outputs": [
    {
     "ename": "NameError",
     "evalue": "name 'gdf1' is not defined",
     "output_type": "error",
     "traceback": [
      "\u001b[0;31m---------------------------------------------------------------------------\u001b[0m",
      "\u001b[0;31mNameError\u001b[0m                                 Traceback (most recent call last)",
      "Cell \u001b[0;32mIn[71], line 1\u001b[0m\n\u001b[0;32m----> 1\u001b[0m ax \u001b[38;5;241m=\u001b[39m gdf1\u001b[38;5;241m.\u001b[39mplot()\n\u001b[1;32m      2\u001b[0m gdf2\u001b[38;5;241m.\u001b[39mplot(ax\u001b[38;5;241m=\u001b[39max, color\u001b[38;5;241m=\u001b[39m\u001b[38;5;124m'\u001b[39m\u001b[38;5;124morange\u001b[39m\u001b[38;5;124m'\u001b[39m, markersize\u001b[38;5;241m=\u001b[39m\u001b[38;5;241m3\u001b[39m)\n",
      "\u001b[0;31mNameError\u001b[0m: name 'gdf1' is not defined"
     ]
    }
   ],
   "source": [
    "ax = gdf1.plot()\n",
    "gdf2.plot(ax=ax, color='orange', markersize=3)"
   ]
  },
  {
   "cell_type": "code",
   "execution_count": 72,
   "id": "8204a61e-9a75-47ff-a3b4-9dcb83772c08",
   "metadata": {},
   "outputs": [
    {
     "ename": "DataSourceError",
     "evalue": "./data/train/N02-19_RailroadSection.shp: No such file or directory",
     "output_type": "error",
     "traceback": [
      "\u001b[0;31m---------------------------------------------------------------------------\u001b[0m",
      "\u001b[0;31mDataSourceError\u001b[0m                           Traceback (most recent call last)",
      "Cell \u001b[0;32mIn[72], line 1\u001b[0m\n\u001b[0;32m----> 1\u001b[0m gdf \u001b[38;5;241m=\u001b[39m gpd\u001b[38;5;241m.\u001b[39mread_file(\u001b[38;5;124m'\u001b[39m\u001b[38;5;124m./data/train/N02-19_RailroadSection.shp\u001b[39m\u001b[38;5;124m'\u001b[39m, encoding\u001b[38;5;241m=\u001b[39m\u001b[38;5;124m'\u001b[39m\u001b[38;5;124mshift-jis\u001b[39m\u001b[38;5;124m'\u001b[39m)\n\u001b[1;32m      2\u001b[0m gdf\n",
      "File \u001b[0;32m/opt/conda/lib/python3.12/site-packages/geopandas/io/file.py:294\u001b[0m, in \u001b[0;36m_read_file\u001b[0;34m(filename, bbox, mask, columns, rows, engine, **kwargs)\u001b[0m\n\u001b[1;32m    291\u001b[0m             from_bytes \u001b[38;5;241m=\u001b[39m \u001b[38;5;28;01mTrue\u001b[39;00m\n\u001b[1;32m    293\u001b[0m \u001b[38;5;28;01mif\u001b[39;00m engine \u001b[38;5;241m==\u001b[39m \u001b[38;5;124m\"\u001b[39m\u001b[38;5;124mpyogrio\u001b[39m\u001b[38;5;124m\"\u001b[39m:\n\u001b[0;32m--> 294\u001b[0m     \u001b[38;5;28;01mreturn\u001b[39;00m _read_file_pyogrio(\n\u001b[1;32m    295\u001b[0m         filename, bbox\u001b[38;5;241m=\u001b[39mbbox, mask\u001b[38;5;241m=\u001b[39mmask, columns\u001b[38;5;241m=\u001b[39mcolumns, rows\u001b[38;5;241m=\u001b[39mrows, \u001b[38;5;241m*\u001b[39m\u001b[38;5;241m*\u001b[39mkwargs\n\u001b[1;32m    296\u001b[0m     )\n\u001b[1;32m    298\u001b[0m \u001b[38;5;28;01melif\u001b[39;00m engine \u001b[38;5;241m==\u001b[39m \u001b[38;5;124m\"\u001b[39m\u001b[38;5;124mfiona\u001b[39m\u001b[38;5;124m\"\u001b[39m:\n\u001b[1;32m    299\u001b[0m     \u001b[38;5;28;01mif\u001b[39;00m pd\u001b[38;5;241m.\u001b[39mapi\u001b[38;5;241m.\u001b[39mtypes\u001b[38;5;241m.\u001b[39mis_file_like(filename):\n",
      "File \u001b[0;32m/opt/conda/lib/python3.12/site-packages/geopandas/io/file.py:547\u001b[0m, in \u001b[0;36m_read_file_pyogrio\u001b[0;34m(path_or_bytes, bbox, mask, rows, **kwargs)\u001b[0m\n\u001b[1;32m    538\u001b[0m     warnings\u001b[38;5;241m.\u001b[39mwarn(\n\u001b[1;32m    539\u001b[0m         \u001b[38;5;124m\"\u001b[39m\u001b[38;5;124mThe \u001b[39m\u001b[38;5;124m'\u001b[39m\u001b[38;5;124minclude_fields\u001b[39m\u001b[38;5;124m'\u001b[39m\u001b[38;5;124m and \u001b[39m\u001b[38;5;124m'\u001b[39m\u001b[38;5;124mignore_fields\u001b[39m\u001b[38;5;124m'\u001b[39m\u001b[38;5;124m keywords are deprecated, and \u001b[39m\u001b[38;5;124m\"\u001b[39m\n\u001b[1;32m    540\u001b[0m         \u001b[38;5;124m\"\u001b[39m\u001b[38;5;124mwill be removed in a future release. You can use the \u001b[39m\u001b[38;5;124m'\u001b[39m\u001b[38;5;124mcolumns\u001b[39m\u001b[38;5;124m'\u001b[39m\u001b[38;5;124m keyword \u001b[39m\u001b[38;5;124m\"\u001b[39m\n\u001b[0;32m   (...)\u001b[0m\n\u001b[1;32m    543\u001b[0m         stacklevel\u001b[38;5;241m=\u001b[39m\u001b[38;5;241m3\u001b[39m,\n\u001b[1;32m    544\u001b[0m     )\n\u001b[1;32m    545\u001b[0m     kwargs[\u001b[38;5;124m\"\u001b[39m\u001b[38;5;124mcolumns\u001b[39m\u001b[38;5;124m\"\u001b[39m] \u001b[38;5;241m=\u001b[39m kwargs\u001b[38;5;241m.\u001b[39mpop(\u001b[38;5;124m\"\u001b[39m\u001b[38;5;124minclude_fields\u001b[39m\u001b[38;5;124m\"\u001b[39m)\n\u001b[0;32m--> 547\u001b[0m \u001b[38;5;28;01mreturn\u001b[39;00m pyogrio\u001b[38;5;241m.\u001b[39mread_dataframe(path_or_bytes, bbox\u001b[38;5;241m=\u001b[39mbbox, \u001b[38;5;241m*\u001b[39m\u001b[38;5;241m*\u001b[39mkwargs)\n",
      "File \u001b[0;32m/opt/conda/lib/python3.12/site-packages/pyogrio/geopandas.py:265\u001b[0m, in \u001b[0;36mread_dataframe\u001b[0;34m(path_or_buffer, layer, encoding, columns, read_geometry, force_2d, skip_features, max_features, where, bbox, mask, fids, sql, sql_dialect, fid_as_index, use_arrow, on_invalid, arrow_to_pandas_kwargs, **kwargs)\u001b[0m\n\u001b[1;32m    260\u001b[0m \u001b[38;5;28;01mif\u001b[39;00m \u001b[38;5;129;01mnot\u001b[39;00m use_arrow:\n\u001b[1;32m    261\u001b[0m     \u001b[38;5;66;03m# For arrow, datetimes are read as is.\u001b[39;00m\n\u001b[1;32m    262\u001b[0m     \u001b[38;5;66;03m# For numpy IO, datetimes are read as string values to preserve timezone info\u001b[39;00m\n\u001b[1;32m    263\u001b[0m     \u001b[38;5;66;03m# as numpy does not directly support timezones.\u001b[39;00m\n\u001b[1;32m    264\u001b[0m     kwargs[\u001b[38;5;124m\"\u001b[39m\u001b[38;5;124mdatetime_as_string\u001b[39m\u001b[38;5;124m\"\u001b[39m] \u001b[38;5;241m=\u001b[39m \u001b[38;5;28;01mTrue\u001b[39;00m\n\u001b[0;32m--> 265\u001b[0m result \u001b[38;5;241m=\u001b[39m read_func(\n\u001b[1;32m    266\u001b[0m     path_or_buffer,\n\u001b[1;32m    267\u001b[0m     layer\u001b[38;5;241m=\u001b[39mlayer,\n\u001b[1;32m    268\u001b[0m     encoding\u001b[38;5;241m=\u001b[39mencoding,\n\u001b[1;32m    269\u001b[0m     columns\u001b[38;5;241m=\u001b[39mcolumns,\n\u001b[1;32m    270\u001b[0m     read_geometry\u001b[38;5;241m=\u001b[39mread_geometry,\n\u001b[1;32m    271\u001b[0m     force_2d\u001b[38;5;241m=\u001b[39mgdal_force_2d,\n\u001b[1;32m    272\u001b[0m     skip_features\u001b[38;5;241m=\u001b[39mskip_features,\n\u001b[1;32m    273\u001b[0m     max_features\u001b[38;5;241m=\u001b[39mmax_features,\n\u001b[1;32m    274\u001b[0m     where\u001b[38;5;241m=\u001b[39mwhere,\n\u001b[1;32m    275\u001b[0m     bbox\u001b[38;5;241m=\u001b[39mbbox,\n\u001b[1;32m    276\u001b[0m     mask\u001b[38;5;241m=\u001b[39mmask,\n\u001b[1;32m    277\u001b[0m     fids\u001b[38;5;241m=\u001b[39mfids,\n\u001b[1;32m    278\u001b[0m     sql\u001b[38;5;241m=\u001b[39msql,\n\u001b[1;32m    279\u001b[0m     sql_dialect\u001b[38;5;241m=\u001b[39msql_dialect,\n\u001b[1;32m    280\u001b[0m     return_fids\u001b[38;5;241m=\u001b[39mfid_as_index,\n\u001b[1;32m    281\u001b[0m     \u001b[38;5;241m*\u001b[39m\u001b[38;5;241m*\u001b[39mkwargs,\n\u001b[1;32m    282\u001b[0m )\n\u001b[1;32m    284\u001b[0m \u001b[38;5;28;01mif\u001b[39;00m use_arrow:\n\u001b[1;32m    285\u001b[0m     meta, table \u001b[38;5;241m=\u001b[39m result\n",
      "File \u001b[0;32m/opt/conda/lib/python3.12/site-packages/pyogrio/raw.py:198\u001b[0m, in \u001b[0;36mread\u001b[0;34m(path_or_buffer, layer, encoding, columns, read_geometry, force_2d, skip_features, max_features, where, bbox, mask, fids, sql, sql_dialect, return_fids, datetime_as_string, **kwargs)\u001b[0m\n\u001b[1;32m     59\u001b[0m \u001b[38;5;250m\u001b[39m\u001b[38;5;124;03m\"\"\"Read OGR data source into numpy arrays.\u001b[39;00m\n\u001b[1;32m     60\u001b[0m \n\u001b[1;32m     61\u001b[0m \u001b[38;5;124;03mIMPORTANT: non-linear geometry types (e.g., MultiSurface) are converted\u001b[39;00m\n\u001b[0;32m   (...)\u001b[0m\n\u001b[1;32m    194\u001b[0m \n\u001b[1;32m    195\u001b[0m \u001b[38;5;124;03m\"\"\"\u001b[39;00m\n\u001b[1;32m    196\u001b[0m dataset_kwargs \u001b[38;5;241m=\u001b[39m _preprocess_options_key_value(kwargs) \u001b[38;5;28;01mif\u001b[39;00m kwargs \u001b[38;5;28;01melse\u001b[39;00m {}\n\u001b[0;32m--> 198\u001b[0m \u001b[38;5;28;01mreturn\u001b[39;00m ogr_read(\n\u001b[1;32m    199\u001b[0m     get_vsi_path_or_buffer(path_or_buffer),\n\u001b[1;32m    200\u001b[0m     layer\u001b[38;5;241m=\u001b[39mlayer,\n\u001b[1;32m    201\u001b[0m     encoding\u001b[38;5;241m=\u001b[39mencoding,\n\u001b[1;32m    202\u001b[0m     columns\u001b[38;5;241m=\u001b[39mcolumns,\n\u001b[1;32m    203\u001b[0m     read_geometry\u001b[38;5;241m=\u001b[39mread_geometry,\n\u001b[1;32m    204\u001b[0m     force_2d\u001b[38;5;241m=\u001b[39mforce_2d,\n\u001b[1;32m    205\u001b[0m     skip_features\u001b[38;5;241m=\u001b[39mskip_features,\n\u001b[1;32m    206\u001b[0m     max_features\u001b[38;5;241m=\u001b[39mmax_features \u001b[38;5;129;01mor\u001b[39;00m \u001b[38;5;241m0\u001b[39m,\n\u001b[1;32m    207\u001b[0m     where\u001b[38;5;241m=\u001b[39mwhere,\n\u001b[1;32m    208\u001b[0m     bbox\u001b[38;5;241m=\u001b[39mbbox,\n\u001b[1;32m    209\u001b[0m     mask\u001b[38;5;241m=\u001b[39m_mask_to_wkb(mask),\n\u001b[1;32m    210\u001b[0m     fids\u001b[38;5;241m=\u001b[39mfids,\n\u001b[1;32m    211\u001b[0m     sql\u001b[38;5;241m=\u001b[39msql,\n\u001b[1;32m    212\u001b[0m     sql_dialect\u001b[38;5;241m=\u001b[39msql_dialect,\n\u001b[1;32m    213\u001b[0m     return_fids\u001b[38;5;241m=\u001b[39mreturn_fids,\n\u001b[1;32m    214\u001b[0m     dataset_kwargs\u001b[38;5;241m=\u001b[39mdataset_kwargs,\n\u001b[1;32m    215\u001b[0m     datetime_as_string\u001b[38;5;241m=\u001b[39mdatetime_as_string,\n\u001b[1;32m    216\u001b[0m )\n",
      "File \u001b[0;32mpyogrio/_io.pyx:1240\u001b[0m, in \u001b[0;36mpyogrio._io.ogr_read\u001b[0;34m()\u001b[0m\n",
      "File \u001b[0;32mpyogrio/_io.pyx:220\u001b[0m, in \u001b[0;36mpyogrio._io.ogr_open\u001b[0;34m()\u001b[0m\n",
      "\u001b[0;31mDataSourceError\u001b[0m: ./data/train/N02-19_RailroadSection.shp: No such file or directory"
     ]
    }
   ],
   "source": [
    "gdf = gpd.read_file('./data/train/N02-19_RailroadSection.shp', encoding='shift-jis')\n",
    "gdf"
   ]
  },
  {
   "cell_type": "code",
   "execution_count": 73,
   "id": "84428271-b518-45de-ba08-b28f64307a5f",
   "metadata": {},
   "outputs": [
    {
     "data": {
      "text/html": [
       "<div>\n",
       "<style scoped>\n",
       "    .dataframe tbody tr th:only-of-type {\n",
       "        vertical-align: middle;\n",
       "    }\n",
       "\n",
       "    .dataframe tbody tr th {\n",
       "        vertical-align: top;\n",
       "    }\n",
       "\n",
       "    .dataframe thead th {\n",
       "        text-align: right;\n",
       "    }\n",
       "</style>\n",
       "<table border=\"1\" class=\"dataframe\">\n",
       "  <thead>\n",
       "    <tr style=\"text-align: right;\">\n",
       "      <th></th>\n",
       "      <th>施設名称</th>\n",
       "      <th>所在地</th>\n",
       "      <th>備考</th>\n",
       "      <th>緯度</th>\n",
       "      <th>経度</th>\n",
       "    </tr>\n",
       "  </thead>\n",
       "  <tbody>\n",
       "    <tr>\n",
       "      <th>0</th>\n",
       "      <td>品川都税事務所</td>\n",
       "      <td>東京都品川区広町2-1-36</td>\n",
       "      <td>品川区役所　2階</td>\n",
       "      <td>35.608983</td>\n",
       "      <td>139.730295</td>\n",
       "    </tr>\n",
       "    <tr>\n",
       "      <th>1</th>\n",
       "      <td>鮫洲運転免許試験場</td>\n",
       "      <td>東京都品川区東大井1-12-5</td>\n",
       "      <td>品川区東大井1-12-5</td>\n",
       "      <td>35.603321</td>\n",
       "      <td>139.746466</td>\n",
       "    </tr>\n",
       "    <tr>\n",
       "      <th>2</th>\n",
       "      <td>品川児童相談所</td>\n",
       "      <td>東京都品川区北品川3-7-21</td>\n",
       "      <td>品川区北品川3-7-21</td>\n",
       "      <td>35.617558</td>\n",
       "      <td>139.740457</td>\n",
       "    </tr>\n",
       "    <tr>\n",
       "      <th>3</th>\n",
       "      <td>品川警察署</td>\n",
       "      <td>東京都品川区東品川3-14-32</td>\n",
       "      <td>品川区東品川3-14-32</td>\n",
       "      <td>35.613952</td>\n",
       "      <td>139.745404</td>\n",
       "    </tr>\n",
       "    <tr>\n",
       "      <th>4</th>\n",
       "      <td>大崎警察署</td>\n",
       "      <td>東京都品川区大崎4-2-10</td>\n",
       "      <td>品川区大崎4-2-10</td>\n",
       "      <td>35.621730</td>\n",
       "      <td>139.724152</td>\n",
       "    </tr>\n",
       "    <tr>\n",
       "      <th>...</th>\n",
       "      <td>...</td>\n",
       "      <td>...</td>\n",
       "      <td>...</td>\n",
       "      <td>...</td>\n",
       "      <td>...</td>\n",
       "    </tr>\n",
       "    <tr>\n",
       "      <th>70</th>\n",
       "      <td>西大井駅(JR横須賀線)</td>\n",
       "      <td>東京都品川区</td>\n",
       "      <td>東京都品川区</td>\n",
       "      <td>35.602127</td>\n",
       "      <td>139.721945</td>\n",
       "    </tr>\n",
       "    <tr>\n",
       "      <th>71</th>\n",
       "      <td>大森駅(JR京浜東北線)</td>\n",
       "      <td>東京都品川区</td>\n",
       "      <td>東京都大田区大森北1丁目</td>\n",
       "      <td>35.588987</td>\n",
       "      <td>139.728153</td>\n",
       "    </tr>\n",
       "    <tr>\n",
       "      <th>72</th>\n",
       "      <td>天王洲アイル駅（東京モノレール）</td>\n",
       "      <td>東京都品川区東品川2-3-8</td>\n",
       "      <td>NaN</td>\n",
       "      <td>35.623118</td>\n",
       "      <td>139.750343</td>\n",
       "    </tr>\n",
       "    <tr>\n",
       "      <th>73</th>\n",
       "      <td>大井警察署八潮団地交番</td>\n",
       "      <td>東京都品川区八潮5-5-5</td>\n",
       "      <td>品川区八潮5-5-5</td>\n",
       "      <td>35.598830</td>\n",
       "      <td>139.750834</td>\n",
       "    </tr>\n",
       "    <tr>\n",
       "      <th>74</th>\n",
       "      <td>都立城南職業能力開発センター</td>\n",
       "      <td>東京都品川区東品川3-31-16</td>\n",
       "      <td>東品川3-31-16\\r\\n電話　3472-3411</td>\n",
       "      <td>35.611976</td>\n",
       "      <td>139.749770</td>\n",
       "    </tr>\n",
       "  </tbody>\n",
       "</table>\n",
       "<p>75 rows × 5 columns</p>\n",
       "</div>"
      ],
      "text/plain": [
       "                施設名称               所在地                          備考         緯度  \\\n",
       "0            品川都税事務所    東京都品川区広町2-1-36                    品川区役所　2階  35.608983   \n",
       "1          鮫洲運転免許試験場   東京都品川区東大井1-12-5                品川区東大井1-12-5  35.603321   \n",
       "2            品川児童相談所   東京都品川区北品川3-7-21                品川区北品川3-7-21  35.617558   \n",
       "3              品川警察署  東京都品川区東品川3-14-32               品川区東品川3-14-32  35.613952   \n",
       "4              大崎警察署    東京都品川区大崎4-2-10                 品川区大崎4-2-10  35.621730   \n",
       "..               ...               ...                         ...        ...   \n",
       "70      西大井駅(JR横須賀線)            東京都品川区                      東京都品川区  35.602127   \n",
       "71      大森駅(JR京浜東北線)            東京都品川区                東京都大田区大森北1丁目  35.588987   \n",
       "72  天王洲アイル駅（東京モノレール）    東京都品川区東品川2-3-8                         NaN  35.623118   \n",
       "73       大井警察署八潮団地交番     東京都品川区八潮5-5-5                  品川区八潮5-5-5  35.598830   \n",
       "74    都立城南職業能力開発センター  東京都品川区東品川3-31-16  東品川3-31-16\\r\\n電話　3472-3411  35.611976   \n",
       "\n",
       "            経度  \n",
       "0   139.730295  \n",
       "1   139.746466  \n",
       "2   139.740457  \n",
       "3   139.745404  \n",
       "4   139.724152  \n",
       "..         ...  \n",
       "70  139.721945  \n",
       "71  139.728153  \n",
       "72  139.750343  \n",
       "73  139.750834  \n",
       "74  139.749770  \n",
       "\n",
       "[75 rows x 5 columns]"
      ]
     },
     "execution_count": 73,
     "metadata": {},
     "output_type": "execute_result"
    }
   ],
   "source": [
    "df = pd.read_csv('./data/kankosho.csv',encoding='shift-jis')\n",
    "df"
   ]
  },
  {
   "cell_type": "code",
   "execution_count": 77,
   "id": "cfacef19-222c-45b2-a783-46931bdab9a0",
   "metadata": {},
   "outputs": [
    {
     "data": {
      "text/html": [
       "<div>\n",
       "<style scoped>\n",
       "    .dataframe tbody tr th:only-of-type {\n",
       "        vertical-align: middle;\n",
       "    }\n",
       "\n",
       "    .dataframe tbody tr th {\n",
       "        vertical-align: top;\n",
       "    }\n",
       "\n",
       "    .dataframe thead th {\n",
       "        text-align: right;\n",
       "    }\n",
       "</style>\n",
       "<table border=\"1\" class=\"dataframe\">\n",
       "  <thead>\n",
       "    <tr style=\"text-align: right;\">\n",
       "      <th></th>\n",
       "      <th>施設名称</th>\n",
       "      <th>所在地</th>\n",
       "      <th>備考</th>\n",
       "      <th>緯度</th>\n",
       "      <th>経度</th>\n",
       "    </tr>\n",
       "  </thead>\n",
       "  <tbody>\n",
       "    <tr>\n",
       "      <th>0</th>\n",
       "      <td>品川都税事務所</td>\n",
       "      <td>東京都品川区広町2-1-36</td>\n",
       "      <td>品川区役所　2階</td>\n",
       "      <td>35.608983</td>\n",
       "      <td>139.730295</td>\n",
       "    </tr>\n",
       "    <tr>\n",
       "      <th>1</th>\n",
       "      <td>鮫洲運転免許試験場</td>\n",
       "      <td>東京都品川区東大井1-12-5</td>\n",
       "      <td>品川区東大井1-12-5</td>\n",
       "      <td>35.603321</td>\n",
       "      <td>139.746466</td>\n",
       "    </tr>\n",
       "    <tr>\n",
       "      <th>2</th>\n",
       "      <td>品川児童相談所</td>\n",
       "      <td>東京都品川区北品川3-7-21</td>\n",
       "      <td>品川区北品川3-7-21</td>\n",
       "      <td>35.617558</td>\n",
       "      <td>139.740457</td>\n",
       "    </tr>\n",
       "    <tr>\n",
       "      <th>3</th>\n",
       "      <td>品川警察署</td>\n",
       "      <td>東京都品川区東品川3-14-32</td>\n",
       "      <td>品川区東品川3-14-32</td>\n",
       "      <td>35.613952</td>\n",
       "      <td>139.745404</td>\n",
       "    </tr>\n",
       "    <tr>\n",
       "      <th>4</th>\n",
       "      <td>大崎警察署</td>\n",
       "      <td>東京都品川区大崎4-2-10</td>\n",
       "      <td>品川区大崎4-2-10</td>\n",
       "      <td>35.621730</td>\n",
       "      <td>139.724152</td>\n",
       "    </tr>\n",
       "    <tr>\n",
       "      <th>...</th>\n",
       "      <td>...</td>\n",
       "      <td>...</td>\n",
       "      <td>...</td>\n",
       "      <td>...</td>\n",
       "      <td>...</td>\n",
       "    </tr>\n",
       "    <tr>\n",
       "      <th>70</th>\n",
       "      <td>西大井駅(JR横須賀線)</td>\n",
       "      <td>東京都品川区</td>\n",
       "      <td>東京都品川区</td>\n",
       "      <td>35.602127</td>\n",
       "      <td>139.721945</td>\n",
       "    </tr>\n",
       "    <tr>\n",
       "      <th>71</th>\n",
       "      <td>大森駅(JR京浜東北線)</td>\n",
       "      <td>東京都品川区</td>\n",
       "      <td>東京都大田区大森北1丁目</td>\n",
       "      <td>35.588987</td>\n",
       "      <td>139.728153</td>\n",
       "    </tr>\n",
       "    <tr>\n",
       "      <th>72</th>\n",
       "      <td>天王洲アイル駅（東京モノレール）</td>\n",
       "      <td>東京都品川区東品川2-3-8</td>\n",
       "      <td>NaN</td>\n",
       "      <td>35.623118</td>\n",
       "      <td>139.750343</td>\n",
       "    </tr>\n",
       "    <tr>\n",
       "      <th>73</th>\n",
       "      <td>大井警察署八潮団地交番</td>\n",
       "      <td>東京都品川区八潮5-5-5</td>\n",
       "      <td>品川区八潮5-5-5</td>\n",
       "      <td>35.598830</td>\n",
       "      <td>139.750834</td>\n",
       "    </tr>\n",
       "    <tr>\n",
       "      <th>74</th>\n",
       "      <td>都立城南職業能力開発センター</td>\n",
       "      <td>東京都品川区東品川3-31-16</td>\n",
       "      <td>東品川3-31-16\\r\\n電話　3472-3411</td>\n",
       "      <td>35.611976</td>\n",
       "      <td>139.749770</td>\n",
       "    </tr>\n",
       "  </tbody>\n",
       "</table>\n",
       "<p>75 rows × 5 columns</p>\n",
       "</div>"
      ],
      "text/plain": [
       "                施設名称               所在地                          備考         緯度  \\\n",
       "0            品川都税事務所    東京都品川区広町2-1-36                    品川区役所　2階  35.608983   \n",
       "1          鮫洲運転免許試験場   東京都品川区東大井1-12-5                品川区東大井1-12-5  35.603321   \n",
       "2            品川児童相談所   東京都品川区北品川3-7-21                品川区北品川3-7-21  35.617558   \n",
       "3              品川警察署  東京都品川区東品川3-14-32               品川区東品川3-14-32  35.613952   \n",
       "4              大崎警察署    東京都品川区大崎4-2-10                 品川区大崎4-2-10  35.621730   \n",
       "..               ...               ...                         ...        ...   \n",
       "70      西大井駅(JR横須賀線)            東京都品川区                      東京都品川区  35.602127   \n",
       "71      大森駅(JR京浜東北線)            東京都品川区                東京都大田区大森北1丁目  35.588987   \n",
       "72  天王洲アイル駅（東京モノレール）    東京都品川区東品川2-3-8                         NaN  35.623118   \n",
       "73       大井警察署八潮団地交番     東京都品川区八潮5-5-5                  品川区八潮5-5-5  35.598830   \n",
       "74    都立城南職業能力開発センター  東京都品川区東品川3-31-16  東品川3-31-16\\r\\n電話　3472-3411  35.611976   \n",
       "\n",
       "            経度  \n",
       "0   139.730295  \n",
       "1   139.746466  \n",
       "2   139.740457  \n",
       "3   139.745404  \n",
       "4   139.724152  \n",
       "..         ...  \n",
       "70  139.721945  \n",
       "71  139.728153  \n",
       "72  139.750343  \n",
       "73  139.750834  \n",
       "74  139.749770  \n",
       "\n",
       "[75 rows x 5 columns]"
      ]
     },
     "execution_count": 77,
     "metadata": {},
     "output_type": "execute_result"
    }
   ],
   "source": [
    "df = df.loc[:,'施設名称':'経度']\n",
    "df"
   ]
  },
  {
   "cell_type": "code",
   "execution_count": 78,
   "id": "84888158-6343-493c-9e32-2f852d9b226d",
   "metadata": {},
   "outputs": [
    {
     "data": {
      "text/plain": [
       "施設名称    False\n",
       "所在地     False\n",
       "備考       True\n",
       "緯度      False\n",
       "経度      False\n",
       "dtype: bool"
      ]
     },
     "execution_count": 78,
     "metadata": {},
     "output_type": "execute_result"
    }
   ],
   "source": [
    "df.isna().any()"
   ]
  },
  {
   "cell_type": "code",
   "execution_count": 79,
   "id": "e982ffea-0ea6-4b80-8b09-b765b4f14b40",
   "metadata": {},
   "outputs": [
    {
     "data": {
      "text/plain": [
       "pandas.core.frame.DataFrame"
      ]
     },
     "execution_count": 79,
     "metadata": {},
     "output_type": "execute_result"
    }
   ],
   "source": [
    "type(df)"
   ]
  },
  {
   "cell_type": "code",
   "execution_count": 81,
   "id": "9b496303-2c97-40ee-ab53-f0781eb2206c",
   "metadata": {},
   "outputs": [],
   "source": [
    "geometry = gpd.points_from_xy(df['経度'],df['緯度'])"
   ]
  },
  {
   "cell_type": "code",
   "execution_count": 82,
   "id": "9078fb39-893d-4d03-b7b8-3dae5d263e1e",
   "metadata": {},
   "outputs": [
    {
     "data": {
      "text/plain": [
       "<GeometryArray>\n",
       "[ <POINT (139.73 35.609)>, <POINT (139.746 35.603)>,  <POINT (139.74 35.618)>,\n",
       " <POINT (139.745 35.614)>, <POINT (139.724 35.622)>,  <POINT (139.73 35.599)>,\n",
       " <POINT (139.706 35.612)>, <POINT (139.755 35.632)>,  <POINT (139.74 35.617)>,\n",
       " <POINT (139.747 35.613)>, <POINT (139.732 35.613)>,  <POINT (139.719 35.62)>,\n",
       "  <POINT (139.74 35.603)>, <POINT (139.728 35.598)>, <POINT (139.752 35.597)>,\n",
       " <POINT (139.711 35.615)>, <POINT (139.719 35.608)>, <POINT (139.702 35.616)>,\n",
       "   <POINT (139.7 35.606)>,  <POINT (139.735 35.63)>,  <POINT (139.71 35.614)>,\n",
       " <POINT (139.747 35.605)>, <POINT (139.747 35.605)>, <POINT (139.736 35.605)>,\n",
       " <POINT (139.719 35.625)>, <POINT (139.707 35.613)>, <POINT (139.708 35.612)>,\n",
       "  <POINT (139.73 35.613)>, <POINT (139.725 35.624)>,  <POINT (139.719 35.63)>,\n",
       "  <POINT (139.73 35.609)>, <POINT (139.723 35.627)>, <POINT (139.715 35.636)>,\n",
       "  <POINT (139.73 35.587)>, <POINT (139.724 35.626)>, <POINT (139.729 35.619)>,\n",
       " <POINT (139.735 35.608)>, <POINT (139.721 35.601)>, <POINT (139.713 35.625)>,\n",
       " <POINT (139.705 35.621)>, <POINT (139.722 35.622)>,  <POINT (139.712 35.61)>,\n",
       " <POINT (139.703 35.605)>, <POINT (139.726 35.609)>, <POINT (139.718 35.609)>,\n",
       " <POINT (139.713 35.606)>, <POINT (139.739 35.623)>, <POINT (139.741 35.617)>,\n",
       " <POINT (139.743 35.609)>, <POINT (139.742 35.605)>, <POINT (139.739 35.599)>,\n",
       " <POINT (139.735 35.587)>, <POINT (139.716 35.614)>, <POINT (139.714 35.606)>,\n",
       " <POINT (139.751 35.622)>,   <POINT (139.75 35.61)>, <POINT (139.747 35.595)>,\n",
       " <POINT (139.739 35.629)>, <POINT (139.708 35.604)>, <POINT (139.699 35.616)>,\n",
       " <POINT (139.715 35.616)>, <POINT (139.724 35.626)>, <POINT (139.724 35.625)>,\n",
       " <POINT (139.715 35.633)>,  <POINT (139.694 35.61)>, <POINT (139.735 35.606)>,\n",
       " <POINT (139.716 35.634)>, <POINT (139.741 35.623)>, <POINT (139.717 35.633)>,\n",
       " <POINT (139.713 35.602)>, <POINT (139.722 35.602)>, <POINT (139.728 35.589)>,\n",
       "  <POINT (139.75 35.623)>, <POINT (139.751 35.599)>,  <POINT (139.75 35.612)>]\n",
       "Length: 75, dtype: geometry"
      ]
     },
     "execution_count": 82,
     "metadata": {},
     "output_type": "execute_result"
    }
   ],
   "source": [
    "geometry"
   ]
  },
  {
   "cell_type": "code",
   "execution_count": 83,
   "id": "063626ba-10f7-4d1d-9b4e-72c3d2a3f9a3",
   "metadata": {},
   "outputs": [
    {
     "data": {
      "text/html": [
       "<div>\n",
       "<style scoped>\n",
       "    .dataframe tbody tr th:only-of-type {\n",
       "        vertical-align: middle;\n",
       "    }\n",
       "\n",
       "    .dataframe tbody tr th {\n",
       "        vertical-align: top;\n",
       "    }\n",
       "\n",
       "    .dataframe thead th {\n",
       "        text-align: right;\n",
       "    }\n",
       "</style>\n",
       "<table border=\"1\" class=\"dataframe\">\n",
       "  <thead>\n",
       "    <tr style=\"text-align: right;\">\n",
       "      <th></th>\n",
       "      <th>施設名称</th>\n",
       "      <th>所在地</th>\n",
       "      <th>備考</th>\n",
       "      <th>緯度</th>\n",
       "      <th>経度</th>\n",
       "      <th>geometry</th>\n",
       "    </tr>\n",
       "  </thead>\n",
       "  <tbody>\n",
       "    <tr>\n",
       "      <th>0</th>\n",
       "      <td>品川都税事務所</td>\n",
       "      <td>東京都品川区広町2-1-36</td>\n",
       "      <td>品川区役所　2階</td>\n",
       "      <td>35.608983</td>\n",
       "      <td>139.730295</td>\n",
       "      <td>POINT (139.7303 35.60898)</td>\n",
       "    </tr>\n",
       "    <tr>\n",
       "      <th>1</th>\n",
       "      <td>鮫洲運転免許試験場</td>\n",
       "      <td>東京都品川区東大井1-12-5</td>\n",
       "      <td>品川区東大井1-12-5</td>\n",
       "      <td>35.603321</td>\n",
       "      <td>139.746466</td>\n",
       "      <td>POINT (139.74647 35.60332)</td>\n",
       "    </tr>\n",
       "    <tr>\n",
       "      <th>2</th>\n",
       "      <td>品川児童相談所</td>\n",
       "      <td>東京都品川区北品川3-7-21</td>\n",
       "      <td>品川区北品川3-7-21</td>\n",
       "      <td>35.617558</td>\n",
       "      <td>139.740457</td>\n",
       "      <td>POINT (139.74046 35.61756)</td>\n",
       "    </tr>\n",
       "    <tr>\n",
       "      <th>3</th>\n",
       "      <td>品川警察署</td>\n",
       "      <td>東京都品川区東品川3-14-32</td>\n",
       "      <td>品川区東品川3-14-32</td>\n",
       "      <td>35.613952</td>\n",
       "      <td>139.745404</td>\n",
       "      <td>POINT (139.7454 35.61395)</td>\n",
       "    </tr>\n",
       "    <tr>\n",
       "      <th>4</th>\n",
       "      <td>大崎警察署</td>\n",
       "      <td>東京都品川区大崎4-2-10</td>\n",
       "      <td>品川区大崎4-2-10</td>\n",
       "      <td>35.621730</td>\n",
       "      <td>139.724152</td>\n",
       "      <td>POINT (139.72415 35.62173)</td>\n",
       "    </tr>\n",
       "    <tr>\n",
       "      <th>...</th>\n",
       "      <td>...</td>\n",
       "      <td>...</td>\n",
       "      <td>...</td>\n",
       "      <td>...</td>\n",
       "      <td>...</td>\n",
       "      <td>...</td>\n",
       "    </tr>\n",
       "    <tr>\n",
       "      <th>70</th>\n",
       "      <td>西大井駅(JR横須賀線)</td>\n",
       "      <td>東京都品川区</td>\n",
       "      <td>東京都品川区</td>\n",
       "      <td>35.602127</td>\n",
       "      <td>139.721945</td>\n",
       "      <td>POINT (139.72194 35.60213)</td>\n",
       "    </tr>\n",
       "    <tr>\n",
       "      <th>71</th>\n",
       "      <td>大森駅(JR京浜東北線)</td>\n",
       "      <td>東京都品川区</td>\n",
       "      <td>東京都大田区大森北1丁目</td>\n",
       "      <td>35.588987</td>\n",
       "      <td>139.728153</td>\n",
       "      <td>POINT (139.72815 35.58899)</td>\n",
       "    </tr>\n",
       "    <tr>\n",
       "      <th>72</th>\n",
       "      <td>天王洲アイル駅（東京モノレール）</td>\n",
       "      <td>東京都品川区東品川2-3-8</td>\n",
       "      <td>NaN</td>\n",
       "      <td>35.623118</td>\n",
       "      <td>139.750343</td>\n",
       "      <td>POINT (139.75034 35.62312)</td>\n",
       "    </tr>\n",
       "    <tr>\n",
       "      <th>73</th>\n",
       "      <td>大井警察署八潮団地交番</td>\n",
       "      <td>東京都品川区八潮5-5-5</td>\n",
       "      <td>品川区八潮5-5-5</td>\n",
       "      <td>35.598830</td>\n",
       "      <td>139.750834</td>\n",
       "      <td>POINT (139.75083 35.59883)</td>\n",
       "    </tr>\n",
       "    <tr>\n",
       "      <th>74</th>\n",
       "      <td>都立城南職業能力開発センター</td>\n",
       "      <td>東京都品川区東品川3-31-16</td>\n",
       "      <td>東品川3-31-16\\r\\n電話　3472-3411</td>\n",
       "      <td>35.611976</td>\n",
       "      <td>139.749770</td>\n",
       "      <td>POINT (139.74977 35.61198)</td>\n",
       "    </tr>\n",
       "  </tbody>\n",
       "</table>\n",
       "<p>75 rows × 6 columns</p>\n",
       "</div>"
      ],
      "text/plain": [
       "                施設名称               所在地                          備考         緯度  \\\n",
       "0            品川都税事務所    東京都品川区広町2-1-36                    品川区役所　2階  35.608983   \n",
       "1          鮫洲運転免許試験場   東京都品川区東大井1-12-5                品川区東大井1-12-5  35.603321   \n",
       "2            品川児童相談所   東京都品川区北品川3-7-21                品川区北品川3-7-21  35.617558   \n",
       "3              品川警察署  東京都品川区東品川3-14-32               品川区東品川3-14-32  35.613952   \n",
       "4              大崎警察署    東京都品川区大崎4-2-10                 品川区大崎4-2-10  35.621730   \n",
       "..               ...               ...                         ...        ...   \n",
       "70      西大井駅(JR横須賀線)            東京都品川区                      東京都品川区  35.602127   \n",
       "71      大森駅(JR京浜東北線)            東京都品川区                東京都大田区大森北1丁目  35.588987   \n",
       "72  天王洲アイル駅（東京モノレール）    東京都品川区東品川2-3-8                         NaN  35.623118   \n",
       "73       大井警察署八潮団地交番     東京都品川区八潮5-5-5                  品川区八潮5-5-5  35.598830   \n",
       "74    都立城南職業能力開発センター  東京都品川区東品川3-31-16  東品川3-31-16\\r\\n電話　3472-3411  35.611976   \n",
       "\n",
       "            経度                    geometry  \n",
       "0   139.730295   POINT (139.7303 35.60898)  \n",
       "1   139.746466  POINT (139.74647 35.60332)  \n",
       "2   139.740457  POINT (139.74046 35.61756)  \n",
       "3   139.745404   POINT (139.7454 35.61395)  \n",
       "4   139.724152  POINT (139.72415 35.62173)  \n",
       "..         ...                         ...  \n",
       "70  139.721945  POINT (139.72194 35.60213)  \n",
       "71  139.728153  POINT (139.72815 35.58899)  \n",
       "72  139.750343  POINT (139.75034 35.62312)  \n",
       "73  139.750834  POINT (139.75083 35.59883)  \n",
       "74  139.749770  POINT (139.74977 35.61198)  \n",
       "\n",
       "[75 rows x 6 columns]"
      ]
     },
     "execution_count": 83,
     "metadata": {},
     "output_type": "execute_result"
    }
   ],
   "source": [
    "gdf = gpd.GeoDataFrame(df,geometry=geometry)\n",
    "gdf"
   ]
  },
  {
   "cell_type": "code",
   "execution_count": 84,
   "id": "534f5ace-0e1f-450f-a137-46363b6dfe5d",
   "metadata": {},
   "outputs": [
    {
     "data": {
      "text/plain": [
       "geopandas.geodataframe.GeoDataFrame"
      ]
     },
     "execution_count": 84,
     "metadata": {},
     "output_type": "execute_result"
    }
   ],
   "source": [
    "type(gdf)"
   ]
  },
  {
   "cell_type": "code",
   "execution_count": 85,
   "id": "58204706-4968-4d71-9ca3-6ef540cea7e2",
   "metadata": {},
   "outputs": [
    {
     "data": {
      "text/plain": [
       "<Axes: >"
      ]
     },
     "execution_count": 85,
     "metadata": {},
     "output_type": "execute_result"
    },
    {
     "data": {
      "image/png": "[encoded data removed]",
      "text/plain": [
       "<Figure size 640x480 with 1 Axes>"
      ]
     },
     "metadata": {},
     "output_type": "display_data"
    }
   ],
   "source": [
    "gdf.plot()"
   ]
  },
  {
   "cell_type": "code",
   "execution_count": 98,
   "id": "23a93947-83f5-4fae-840b-6cb5c3fb89d1",
   "metadata": {},
   "outputs": [
    {
     "data": {
      "text/html": [
       "<div>\n",
       "<style scoped>\n",
       "    .dataframe tbody tr th:only-of-type {\n",
       "        vertical-align: middle;\n",
       "    }\n",
       "\n",
       "    .dataframe tbody tr th {\n",
       "        vertical-align: top;\n",
       "    }\n",
       "\n",
       "    .dataframe thead th {\n",
       "        text-align: right;\n",
       "    }\n",
       "</style>\n",
       "<table border=\"1\" class=\"dataframe\">\n",
       "  <thead>\n",
       "    <tr style=\"text-align: right;\">\n",
       "      <th></th>\n",
       "      <th>N03_001</th>\n",
       "      <th>N03_002</th>\n",
       "      <th>N03_003</th>\n",
       "      <th>N03_004</th>\n",
       "      <th>N03_007</th>\n",
       "      <th>geometry</th>\n",
       "    </tr>\n",
       "  </thead>\n",
       "  <tbody>\n",
       "    <tr>\n",
       "      <th>0</th>\n",
       "      <td>東京都</td>\n",
       "      <td>None</td>\n",
       "      <td>None</td>\n",
       "      <td>None</td>\n",
       "      <td>None</td>\n",
       "      <td>MULTIPOLYGON (((136.07396 20.42276, 136.07388 ...</td>\n",
       "    </tr>\n",
       "    <tr>\n",
       "      <th>1</th>\n",
       "      <td>東京都</td>\n",
       "      <td>None</td>\n",
       "      <td>None</td>\n",
       "      <td>千代田区</td>\n",
       "      <td>13101</td>\n",
       "      <td>POLYGON ((139.77287 35.7037, 139.77279 35.7031...</td>\n",
       "    </tr>\n",
       "    <tr>\n",
       "      <th>2</th>\n",
       "      <td>東京都</td>\n",
       "      <td>None</td>\n",
       "      <td>None</td>\n",
       "      <td>中央区</td>\n",
       "      <td>13102</td>\n",
       "      <td>POLYGON ((139.78341 35.69645, 139.78459 35.696...</td>\n",
       "    </tr>\n",
       "    <tr>\n",
       "      <th>3</th>\n",
       "      <td>東京都</td>\n",
       "      <td>None</td>\n",
       "      <td>None</td>\n",
       "      <td>港区</td>\n",
       "      <td>13103</td>\n",
       "      <td>POLYGON ((139.77129 35.62841, 139.77128 35.628...</td>\n",
       "    </tr>\n",
       "    <tr>\n",
       "      <th>4</th>\n",
       "      <td>東京都</td>\n",
       "      <td>None</td>\n",
       "      <td>None</td>\n",
       "      <td>港区</td>\n",
       "      <td>13103</td>\n",
       "      <td>POLYGON ((139.76689 35.62774, 139.76718 35.627...</td>\n",
       "    </tr>\n",
       "    <tr>\n",
       "      <th>...</th>\n",
       "      <td>...</td>\n",
       "      <td>...</td>\n",
       "      <td>...</td>\n",
       "      <td>...</td>\n",
       "      <td>...</td>\n",
       "      <td>...</td>\n",
       "    </tr>\n",
       "    <tr>\n",
       "      <th>6172</th>\n",
       "      <td>東京都</td>\n",
       "      <td>None</td>\n",
       "      <td>None</td>\n",
       "      <td>所属未定地</td>\n",
       "      <td>None</td>\n",
       "      <td>POLYGON ((140.34167 29.79385, 140.34161 29.793...</td>\n",
       "    </tr>\n",
       "    <tr>\n",
       "      <th>6173</th>\n",
       "      <td>東京都</td>\n",
       "      <td>None</td>\n",
       "      <td>None</td>\n",
       "      <td>所属未定地</td>\n",
       "      <td>None</td>\n",
       "      <td>POLYGON ((139.85036 35.65624, 139.85034 35.655...</td>\n",
       "    </tr>\n",
       "    <tr>\n",
       "      <th>6174</th>\n",
       "      <td>東京都</td>\n",
       "      <td>None</td>\n",
       "      <td>None</td>\n",
       "      <td>所属未定地</td>\n",
       "      <td>None</td>\n",
       "      <td>POLYGON ((139.81367 35.57886, 139.81343 35.578...</td>\n",
       "    </tr>\n",
       "    <tr>\n",
       "      <th>6175</th>\n",
       "      <td>東京都</td>\n",
       "      <td>None</td>\n",
       "      <td>None</td>\n",
       "      <td>所属未定地</td>\n",
       "      <td>None</td>\n",
       "      <td>POLYGON ((139.82664 35.5976, 139.827 35.59703,...</td>\n",
       "    </tr>\n",
       "    <tr>\n",
       "      <th>6176</th>\n",
       "      <td>東京都</td>\n",
       "      <td>None</td>\n",
       "      <td>None</td>\n",
       "      <td>所属未定地</td>\n",
       "      <td>None</td>\n",
       "      <td>POLYGON ((139.81286 35.59047, 139.81355 35.589...</td>\n",
       "    </tr>\n",
       "  </tbody>\n",
       "</table>\n",
       "<p>6177 rows × 6 columns</p>\n",
       "</div>"
      ],
      "text/plain": [
       "     N03_001 N03_002 N03_003 N03_004 N03_007  \\\n",
       "0        東京都    None    None    None    None   \n",
       "1        東京都    None    None    千代田区   13101   \n",
       "2        東京都    None    None     中央区   13102   \n",
       "3        東京都    None    None      港区   13103   \n",
       "4        東京都    None    None      港区   13103   \n",
       "...      ...     ...     ...     ...     ...   \n",
       "6172     東京都    None    None   所属未定地    None   \n",
       "6173     東京都    None    None   所属未定地    None   \n",
       "6174     東京都    None    None   所属未定地    None   \n",
       "6175     東京都    None    None   所属未定地    None   \n",
       "6176     東京都    None    None   所属未定地    None   \n",
       "\n",
       "                                               geometry  \n",
       "0     MULTIPOLYGON (((136.07396 20.42276, 136.07388 ...  \n",
       "1     POLYGON ((139.77287 35.7037, 139.77279 35.7031...  \n",
       "2     POLYGON ((139.78341 35.69645, 139.78459 35.696...  \n",
       "3     POLYGON ((139.77129 35.62841, 139.77128 35.628...  \n",
       "4     POLYGON ((139.76689 35.62774, 139.76718 35.627...  \n",
       "...                                                 ...  \n",
       "6172  POLYGON ((140.34167 29.79385, 140.34161 29.793...  \n",
       "6173  POLYGON ((139.85036 35.65624, 139.85034 35.655...  \n",
       "6174  POLYGON ((139.81367 35.57886, 139.81343 35.578...  \n",
       "6175  POLYGON ((139.82664 35.5976, 139.827 35.59703,...  \n",
       "6176  POLYGON ((139.81286 35.59047, 139.81355 35.589...  \n",
       "\n",
       "[6177 rows x 6 columns]"
      ]
     },
     "execution_count": 98,
     "metadata": {},
     "output_type": "execute_result"
    }
   ],
   "source": [
    "gyosei = gpd.read_file('./data/gyosei/N03-22_13_220101.shp')\n",
    "gyosei"
   ]
  },
  {
   "cell_type": "code",
   "execution_count": 102,
   "id": "9e2e2cf4-755a-4c67-bac3-a454dc2a3165",
   "metadata": {},
   "outputs": [
    {
     "data": {
      "text/html": [
       "<div>\n",
       "<style scoped>\n",
       "    .dataframe tbody tr th:only-of-type {\n",
       "        vertical-align: middle;\n",
       "    }\n",
       "\n",
       "    .dataframe tbody tr th {\n",
       "        vertical-align: top;\n",
       "    }\n",
       "\n",
       "    .dataframe thead th {\n",
       "        text-align: right;\n",
       "    }\n",
       "</style>\n",
       "<table border=\"1\" class=\"dataframe\">\n",
       "  <thead>\n",
       "    <tr style=\"text-align: right;\">\n",
       "      <th></th>\n",
       "      <th>N03_001</th>\n",
       "      <th>N03_002</th>\n",
       "      <th>N03_003</th>\n",
       "      <th>N03_004</th>\n",
       "      <th>N03_007</th>\n",
       "      <th>geometry</th>\n",
       "    </tr>\n",
       "  </thead>\n",
       "  <tbody>\n",
       "    <tr>\n",
       "      <th>1</th>\n",
       "      <td>東京都</td>\n",
       "      <td>None</td>\n",
       "      <td>None</td>\n",
       "      <td>千代田区</td>\n",
       "      <td>13101</td>\n",
       "      <td>POLYGON ((139.77287 35.7037, 139.77279 35.7031...</td>\n",
       "    </tr>\n",
       "    <tr>\n",
       "      <th>2</th>\n",
       "      <td>東京都</td>\n",
       "      <td>None</td>\n",
       "      <td>None</td>\n",
       "      <td>中央区</td>\n",
       "      <td>13102</td>\n",
       "      <td>POLYGON ((139.78341 35.69645, 139.78459 35.696...</td>\n",
       "    </tr>\n",
       "    <tr>\n",
       "      <th>3</th>\n",
       "      <td>東京都</td>\n",
       "      <td>None</td>\n",
       "      <td>None</td>\n",
       "      <td>港区</td>\n",
       "      <td>13103</td>\n",
       "      <td>POLYGON ((139.77129 35.62841, 139.77128 35.628...</td>\n",
       "    </tr>\n",
       "    <tr>\n",
       "      <th>4</th>\n",
       "      <td>東京都</td>\n",
       "      <td>None</td>\n",
       "      <td>None</td>\n",
       "      <td>港区</td>\n",
       "      <td>13103</td>\n",
       "      <td>POLYGON ((139.76689 35.62774, 139.76718 35.627...</td>\n",
       "    </tr>\n",
       "    <tr>\n",
       "      <th>5</th>\n",
       "      <td>東京都</td>\n",
       "      <td>None</td>\n",
       "      <td>None</td>\n",
       "      <td>港区</td>\n",
       "      <td>13103</td>\n",
       "      <td>POLYGON ((139.77022 35.63199, 139.77046 35.631...</td>\n",
       "    </tr>\n",
       "    <tr>\n",
       "      <th>...</th>\n",
       "      <td>...</td>\n",
       "      <td>...</td>\n",
       "      <td>...</td>\n",
       "      <td>...</td>\n",
       "      <td>...</td>\n",
       "      <td>...</td>\n",
       "    </tr>\n",
       "    <tr>\n",
       "      <th>6172</th>\n",
       "      <td>東京都</td>\n",
       "      <td>None</td>\n",
       "      <td>None</td>\n",
       "      <td>所属未定地</td>\n",
       "      <td>None</td>\n",
       "      <td>POLYGON ((140.34167 29.79385, 140.34161 29.793...</td>\n",
       "    </tr>\n",
       "    <tr>\n",
       "      <th>6173</th>\n",
       "      <td>東京都</td>\n",
       "      <td>None</td>\n",
       "      <td>None</td>\n",
       "      <td>所属未定地</td>\n",
       "      <td>None</td>\n",
       "      <td>POLYGON ((139.85036 35.65624, 139.85034 35.655...</td>\n",
       "    </tr>\n",
       "    <tr>\n",
       "      <th>6174</th>\n",
       "      <td>東京都</td>\n",
       "      <td>None</td>\n",
       "      <td>None</td>\n",
       "      <td>所属未定地</td>\n",
       "      <td>None</td>\n",
       "      <td>POLYGON ((139.81367 35.57886, 139.81343 35.578...</td>\n",
       "    </tr>\n",
       "    <tr>\n",
       "      <th>6175</th>\n",
       "      <td>東京都</td>\n",
       "      <td>None</td>\n",
       "      <td>None</td>\n",
       "      <td>所属未定地</td>\n",
       "      <td>None</td>\n",
       "      <td>POLYGON ((139.82664 35.5976, 139.827 35.59703,...</td>\n",
       "    </tr>\n",
       "    <tr>\n",
       "      <th>6176</th>\n",
       "      <td>東京都</td>\n",
       "      <td>None</td>\n",
       "      <td>None</td>\n",
       "      <td>所属未定地</td>\n",
       "      <td>None</td>\n",
       "      <td>POLYGON ((139.81286 35.59047, 139.81355 35.589...</td>\n",
       "    </tr>\n",
       "  </tbody>\n",
       "</table>\n",
       "<p>6176 rows × 6 columns</p>\n",
       "</div>"
      ],
      "text/plain": [
       "     N03_001 N03_002 N03_003 N03_004 N03_007  \\\n",
       "1        東京都    None    None    千代田区   13101   \n",
       "2        東京都    None    None     中央区   13102   \n",
       "3        東京都    None    None      港区   13103   \n",
       "4        東京都    None    None      港区   13103   \n",
       "5        東京都    None    None      港区   13103   \n",
       "...      ...     ...     ...     ...     ...   \n",
       "6172     東京都    None    None   所属未定地    None   \n",
       "6173     東京都    None    None   所属未定地    None   \n",
       "6174     東京都    None    None   所属未定地    None   \n",
       "6175     東京都    None    None   所属未定地    None   \n",
       "6176     東京都    None    None   所属未定地    None   \n",
       "\n",
       "                                               geometry  \n",
       "1     POLYGON ((139.77287 35.7037, 139.77279 35.7031...  \n",
       "2     POLYGON ((139.78341 35.69645, 139.78459 35.696...  \n",
       "3     POLYGON ((139.77129 35.62841, 139.77128 35.628...  \n",
       "4     POLYGON ((139.76689 35.62774, 139.76718 35.627...  \n",
       "5     POLYGON ((139.77022 35.63199, 139.77046 35.631...  \n",
       "...                                                 ...  \n",
       "6172  POLYGON ((140.34167 29.79385, 140.34161 29.793...  \n",
       "6173  POLYGON ((139.85036 35.65624, 139.85034 35.655...  \n",
       "6174  POLYGON ((139.81367 35.57886, 139.81343 35.578...  \n",
       "6175  POLYGON ((139.82664 35.5976, 139.827 35.59703,...  \n",
       "6176  POLYGON ((139.81286 35.59047, 139.81355 35.589...  \n",
       "\n",
       "[6176 rows x 6 columns]"
      ]
     },
     "execution_count": 102,
     "metadata": {},
     "output_type": "execute_result"
    }
   ],
   "source": [
    "gyosei_tmp = gyosei.dropna(subset=['N03_004'])\n",
    "gyosei_tmp"
   ]
  },
  {
   "cell_type": "code",
   "execution_count": 104,
   "id": "fe1677af-a081-416c-ab11-a850db1747d5",
   "metadata": {},
   "outputs": [
    {
     "data": {
      "text/html": [
       "<div>\n",
       "<style scoped>\n",
       "    .dataframe tbody tr th:only-of-type {\n",
       "        vertical-align: middle;\n",
       "    }\n",
       "\n",
       "    .dataframe tbody tr th {\n",
       "        vertical-align: top;\n",
       "    }\n",
       "\n",
       "    .dataframe thead th {\n",
       "        text-align: right;\n",
       "    }\n",
       "</style>\n",
       "<table border=\"1\" class=\"dataframe\">\n",
       "  <thead>\n",
       "    <tr style=\"text-align: right;\">\n",
       "      <th></th>\n",
       "      <th>N03_001</th>\n",
       "      <th>N03_002</th>\n",
       "      <th>N03_003</th>\n",
       "      <th>N03_004</th>\n",
       "      <th>N03_007</th>\n",
       "      <th>geometry</th>\n",
       "    </tr>\n",
       "  </thead>\n",
       "  <tbody>\n",
       "    <tr>\n",
       "      <th>1</th>\n",
       "      <td>東京都</td>\n",
       "      <td>None</td>\n",
       "      <td>None</td>\n",
       "      <td>千代田区</td>\n",
       "      <td>13101</td>\n",
       "      <td>POLYGON ((139.77287 35.7037, 139.77279 35.7031...</td>\n",
       "    </tr>\n",
       "    <tr>\n",
       "      <th>2</th>\n",
       "      <td>東京都</td>\n",
       "      <td>None</td>\n",
       "      <td>None</td>\n",
       "      <td>中央区</td>\n",
       "      <td>13102</td>\n",
       "      <td>POLYGON ((139.78341 35.69645, 139.78459 35.696...</td>\n",
       "    </tr>\n",
       "    <tr>\n",
       "      <th>3</th>\n",
       "      <td>東京都</td>\n",
       "      <td>None</td>\n",
       "      <td>None</td>\n",
       "      <td>港区</td>\n",
       "      <td>13103</td>\n",
       "      <td>POLYGON ((139.77129 35.62841, 139.77128 35.628...</td>\n",
       "    </tr>\n",
       "    <tr>\n",
       "      <th>4</th>\n",
       "      <td>東京都</td>\n",
       "      <td>None</td>\n",
       "      <td>None</td>\n",
       "      <td>港区</td>\n",
       "      <td>13103</td>\n",
       "      <td>POLYGON ((139.76689 35.62774, 139.76718 35.627...</td>\n",
       "    </tr>\n",
       "    <tr>\n",
       "      <th>5</th>\n",
       "      <td>東京都</td>\n",
       "      <td>None</td>\n",
       "      <td>None</td>\n",
       "      <td>港区</td>\n",
       "      <td>13103</td>\n",
       "      <td>POLYGON ((139.77022 35.63199, 139.77046 35.631...</td>\n",
       "    </tr>\n",
       "    <tr>\n",
       "      <th>...</th>\n",
       "      <td>...</td>\n",
       "      <td>...</td>\n",
       "      <td>...</td>\n",
       "      <td>...</td>\n",
       "      <td>...</td>\n",
       "      <td>...</td>\n",
       "    </tr>\n",
       "    <tr>\n",
       "      <th>114</th>\n",
       "      <td>東京都</td>\n",
       "      <td>None</td>\n",
       "      <td>None</td>\n",
       "      <td>葛飾区</td>\n",
       "      <td>13122</td>\n",
       "      <td>POLYGON ((139.87626 35.79479, 139.87661 35.793...</td>\n",
       "    </tr>\n",
       "    <tr>\n",
       "      <th>115</th>\n",
       "      <td>東京都</td>\n",
       "      <td>None</td>\n",
       "      <td>None</td>\n",
       "      <td>江戸川区</td>\n",
       "      <td>13123</td>\n",
       "      <td>POLYGON ((139.86285 35.63532, 139.86299 35.635...</td>\n",
       "    </tr>\n",
       "    <tr>\n",
       "      <th>116</th>\n",
       "      <td>東京都</td>\n",
       "      <td>None</td>\n",
       "      <td>None</td>\n",
       "      <td>江戸川区</td>\n",
       "      <td>13123</td>\n",
       "      <td>POLYGON ((139.8638 35.63722, 139.86391 35.6371...</td>\n",
       "    </tr>\n",
       "    <tr>\n",
       "      <th>117</th>\n",
       "      <td>東京都</td>\n",
       "      <td>None</td>\n",
       "      <td>None</td>\n",
       "      <td>江戸川区</td>\n",
       "      <td>13123</td>\n",
       "      <td>POLYGON ((139.8556 35.63856, 139.85563 35.6385...</td>\n",
       "    </tr>\n",
       "    <tr>\n",
       "      <th>118</th>\n",
       "      <td>東京都</td>\n",
       "      <td>None</td>\n",
       "      <td>None</td>\n",
       "      <td>江戸川区</td>\n",
       "      <td>13123</td>\n",
       "      <td>POLYGON ((139.89018 35.75055, 139.89044 35.750...</td>\n",
       "    </tr>\n",
       "  </tbody>\n",
       "</table>\n",
       "<p>118 rows × 6 columns</p>\n",
       "</div>"
      ],
      "text/plain": [
       "    N03_001 N03_002 N03_003 N03_004 N03_007  \\\n",
       "1       東京都    None    None    千代田区   13101   \n",
       "2       東京都    None    None     中央区   13102   \n",
       "3       東京都    None    None      港区   13103   \n",
       "4       東京都    None    None      港区   13103   \n",
       "5       東京都    None    None      港区   13103   \n",
       "..      ...     ...     ...     ...     ...   \n",
       "114     東京都    None    None     葛飾区   13122   \n",
       "115     東京都    None    None    江戸川区   13123   \n",
       "116     東京都    None    None    江戸川区   13123   \n",
       "117     東京都    None    None    江戸川区   13123   \n",
       "118     東京都    None    None    江戸川区   13123   \n",
       "\n",
       "                                              geometry  \n",
       "1    POLYGON ((139.77287 35.7037, 139.77279 35.7031...  \n",
       "2    POLYGON ((139.78341 35.69645, 139.78459 35.696...  \n",
       "3    POLYGON ((139.77129 35.62841, 139.77128 35.628...  \n",
       "4    POLYGON ((139.76689 35.62774, 139.76718 35.627...  \n",
       "5    POLYGON ((139.77022 35.63199, 139.77046 35.631...  \n",
       "..                                                 ...  \n",
       "114  POLYGON ((139.87626 35.79479, 139.87661 35.793...  \n",
       "115  POLYGON ((139.86285 35.63532, 139.86299 35.635...  \n",
       "116  POLYGON ((139.8638 35.63722, 139.86391 35.6371...  \n",
       "117  POLYGON ((139.8556 35.63856, 139.85563 35.6385...  \n",
       "118  POLYGON ((139.89018 35.75055, 139.89044 35.750...  \n",
       "\n",
       "[118 rows x 6 columns]"
      ]
     },
     "execution_count": 104,
     "metadata": {},
     "output_type": "execute_result"
    }
   ],
   "source": [
    "gyosei_ku = gyosei_tmp[gyosei_tmp['N03_004'].str.contains('区')]\n",
    "gyosei_ku"
   ]
  },
  {
   "cell_type": "code",
   "execution_count": 105,
   "id": "fc8837cc-adbf-4f68-b71b-cb812c41f428",
   "metadata": {},
   "outputs": [
    {
     "data": {
      "text/plain": [
       "<Axes: >"
      ]
     },
     "execution_count": 105,
     "metadata": {},
     "output_type": "execute_result"
    },
    {
     "data": {
      "image/png": "[encoded data removed]",
      "text/plain": [
       "<Figure size 640x480 with 1 Axes>"
      ]
     },
     "metadata": {},
     "output_type": "display_data"
    }
   ],
   "source": [
    "gyosei_ku.plot()"
   ]
  },
  {
   "cell_type": "code",
   "execution_count": 106,
   "id": "0bdbcf2a-49c2-436e-94c0-6778b029c3a6",
   "metadata": {},
   "outputs": [
    {
     "data": {
      "text/plain": [
       "<Axes: >"
      ]
     },
     "execution_count": 106,
     "metadata": {},
     "output_type": "execute_result"
    },
    {
     "data": {
      "image/png": "[encoded data removed]",
      "text/plain": [
       "<Figure size 640x480 with 1 Axes>"
      ]
     },
     "metadata": {},
     "output_type": "display_data"
    }
   ],
   "source": [
    "ax=gyosei_ku.plot()\n",
    "gdf.plot(ax=ax, color='orange',markersize=1)"
   ]
  },
  {
   "cell_type": "code",
   "execution_count": 112,
   "id": "916005f9-cb51-4520-93d1-97b5c003bb12",
   "metadata": {},
   "outputs": [
    {
     "data": {
      "text/html": [
       "<div>\n",
       "<style scoped>\n",
       "    .dataframe tbody tr th:only-of-type {\n",
       "        vertical-align: middle;\n",
       "    }\n",
       "\n",
       "    .dataframe tbody tr th {\n",
       "        vertical-align: top;\n",
       "    }\n",
       "\n",
       "    .dataframe thead th {\n",
       "        text-align: right;\n",
       "    }\n",
       "</style>\n",
       "<table border=\"1\" class=\"dataframe\">\n",
       "  <thead>\n",
       "    <tr style=\"text-align: right;\">\n",
       "      <th></th>\n",
       "      <th>N03_001</th>\n",
       "      <th>N03_002</th>\n",
       "      <th>N03_003</th>\n",
       "      <th>N03_004</th>\n",
       "      <th>N03_007</th>\n",
       "      <th>geometry</th>\n",
       "    </tr>\n",
       "  </thead>\n",
       "  <tbody>\n",
       "    <tr>\n",
       "      <th>92</th>\n",
       "      <td>東京都</td>\n",
       "      <td>None</td>\n",
       "      <td>None</td>\n",
       "      <td>品川区</td>\n",
       "      <td>13109</td>\n",
       "      <td>POLYGON ((139.74965 35.59135, 139.74963 35.591...</td>\n",
       "    </tr>\n",
       "    <tr>\n",
       "      <th>93</th>\n",
       "      <td>東京都</td>\n",
       "      <td>None</td>\n",
       "      <td>None</td>\n",
       "      <td>品川区</td>\n",
       "      <td>13109</td>\n",
       "      <td>POLYGON ((139.75501 35.61771, 139.75507 35.617...</td>\n",
       "    </tr>\n",
       "    <tr>\n",
       "      <th>94</th>\n",
       "      <td>東京都</td>\n",
       "      <td>None</td>\n",
       "      <td>None</td>\n",
       "      <td>品川区</td>\n",
       "      <td>13109</td>\n",
       "      <td>POLYGON ((139.77231 35.62188, 139.77302 35.621...</td>\n",
       "    </tr>\n",
       "    <tr>\n",
       "      <th>95</th>\n",
       "      <td>東京都</td>\n",
       "      <td>None</td>\n",
       "      <td>None</td>\n",
       "      <td>品川区</td>\n",
       "      <td>13109</td>\n",
       "      <td>POLYGON ((139.75953 35.625, 139.75966 35.6216,...</td>\n",
       "    </tr>\n",
       "    <tr>\n",
       "      <th>96</th>\n",
       "      <td>東京都</td>\n",
       "      <td>None</td>\n",
       "      <td>None</td>\n",
       "      <td>品川区</td>\n",
       "      <td>13109</td>\n",
       "      <td>POLYGON ((139.71943 35.64167, 139.71953 35.641...</td>\n",
       "    </tr>\n",
       "  </tbody>\n",
       "</table>\n",
       "</div>"
      ],
      "text/plain": [
       "   N03_001 N03_002 N03_003 N03_004 N03_007  \\\n",
       "92     東京都    None    None     品川区   13109   \n",
       "93     東京都    None    None     品川区   13109   \n",
       "94     東京都    None    None     品川区   13109   \n",
       "95     東京都    None    None     品川区   13109   \n",
       "96     東京都    None    None     品川区   13109   \n",
       "\n",
       "                                             geometry  \n",
       "92  POLYGON ((139.74965 35.59135, 139.74963 35.591...  \n",
       "93  POLYGON ((139.75501 35.61771, 139.75507 35.617...  \n",
       "94  POLYGON ((139.77231 35.62188, 139.77302 35.621...  \n",
       "95  POLYGON ((139.75953 35.625, 139.75966 35.6216,...  \n",
       "96  POLYGON ((139.71943 35.64167, 139.71953 35.641...  "
      ]
     },
     "execution_count": 112,
     "metadata": {},
     "output_type": "execute_result"
    }
   ],
   "source": [
    "shinagawa = gyosei[gyosei['N03_004']=='品川区']\n",
    "shinagawa"
   ]
  },
  {
   "cell_type": "code",
   "execution_count": 113,
   "id": "366139c7-b110-45c6-8d1e-448cc5993dff",
   "metadata": {},
   "outputs": [
    {
     "data": {
      "text/plain": [
       "<Axes: >"
      ]
     },
     "execution_count": 113,
     "metadata": {},
     "output_type": "execute_result"
    },
    {
     "data": {
      "image/png": "[encoded data removed]",
      "text/plain": [
       "<Figure size 640x480 with 1 Axes>"
      ]
     },
     "metadata": {},
     "output_type": "display_data"
    }
   ],
   "source": [
    "ax=shinagawa.plot()\n",
    "gdf.plot(ax=ax, color='orange',markersize=2)"
   ]
  },
  {
   "cell_type": "code",
   "execution_count": null,
   "id": "0dc1f749-a8ed-4146-88b4-0fdefac17cd8",
   "metadata": {},
   "outputs": [],
   "source": []
  }
 ],
 "metadata": {
  "kernelspec": {
   "display_name": "Python 3 (ipykernel)",
   "language": "python",
   "name": "python3"
  },
  "language_info": {
   "codemirror_mode": {
    "name": "ipython",
    "version": 3
   },
   "file_extension": ".py",
   "mimetype": "text/x-python",
   "name": "python",
   "nbconvert_exporter": "python",
   "pygments_lexer": "ipython3",
   "version": "3.12.9"
  }
 },
 "nbformat": 4,
 "nbformat_minor": 5
}
